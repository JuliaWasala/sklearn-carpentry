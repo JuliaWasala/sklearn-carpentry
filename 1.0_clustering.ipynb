{
 "cells": [
  {
   "cell_type": "markdown",
   "metadata": {},
   "source": [
    "# Clustering\n",
    "- An unsupervised method: no labels!\n",
    "- Predictive vs descriptive clustering\n",
    "\n",
    "## Applications\n",
    "- Trends in data\n",
    "- Data compression (e.g. image colour depth)\n",
    "- Pattern recognition"
   ]
  },
  {
   "cell_type": "markdown",
   "metadata": {},
   "source": [
    "# K-means clustering\n",
    "Search for centroids that minimise the within-cluster scatter\n",
    "\n",
    "Algorithm:\n",
    "\n",
    "0. Until clusters don't change:\n",
    "    1. Choose _k_ means at random\n",
    "    2. For each point _x_ in data _D_\n",
    "        - Calculate the closest mean, assign _x_ to that cluster\n",
    "        - Update the means\n",
    "\n",
    "<div class=\"alert alert-block alert-info\">\n",
    "<b>Tip:</b> <a href=\"https://hckr.pl/k-means-visualization/\">Example</a>\n",
    "</div>\n"
   ]
  },
  {
   "cell_type": "markdown",
   "metadata": {},
   "source": [
    "## Choosing the number of clusters\n",
    "![k-means xkcd comic](images/480px-k_means_clustering_2x.png)"
   ]
  },
  {
   "cell_type": "markdown",
   "metadata": {},
   "source": [
    "## In scikit-learn"
   ]
  },
  {
   "cell_type": "code",
   "execution_count": 2,
   "metadata": {},
   "outputs": [],
   "source": [
    "# imports"
   ]
  },
  {
   "cell_type": "code",
   "execution_count": 3,
   "metadata": {},
   "outputs": [],
   "source": [
    "# generate data"
   ]
  },
  {
   "cell_type": "code",
   "execution_count": 4,
   "metadata": {},
   "outputs": [],
   "source": [
    "# cluster using k-means"
   ]
  },
  {
   "cell_type": "code",
   "execution_count": null,
   "metadata": {},
   "outputs": [],
   "source": [
    "# plot results"
   ]
  },
  {
   "cell_type": "markdown",
   "metadata": {},
   "source": [
    "## Advantages of K-means\n",
    "- Simple and fast\n",
    "- Good first choice\n",
    "- Low memory requirements\n",
    "\n",
    "## Limitations of K-means\n",
    "- Struggles with irregularly shaped clusters\n",
    "- Get an answer even if data is not clustered\n",
    "- Requires linearly separable data:\n",
    "\n",
    "    ![circles](images/linsep.png)"
   ]
  },
  {
   "cell_type": "markdown",
   "metadata": {},
   "source": [
    "## Exercises\n",
    "\n",
    "Adjust the program above to increase the standard deviation of the blobs (the cluster_std parameter to make_blobs) and increase the number of samples (n_samples) to 4000. You should start to see the clusters overlapping. Do the clusters that are identified make sense? Is there any strange behaviour from this?\n"
   ]
  },
  {
   "cell_type": "code",
   "execution_count": null,
   "metadata": {},
   "outputs": [],
   "source": []
  },
  {
   "cell_type": "markdown",
   "metadata": {},
   "source": [
    "As K-Means requires us to specify the number of clusters to expect a common strategy to get around this is to vary the number of clusters we are looking for. Modify the program to loop through searching for between 2 and 10 clusters. Which (if any) of the results look more sensible? What criteria might you use to select the best one?"
   ]
  },
  {
   "cell_type": "code",
   "execution_count": null,
   "metadata": {},
   "outputs": [],
   "source": []
  },
  {
   "cell_type": "markdown",
   "metadata": {},
   "source": [
    "# Non-linear data\n",
    "- [Kernel trick](https://www.youtube.com/watch?v=OdlNM96sHio)\n",
    "- Spectral clustering\n",
    "\n",
    "## Spectral clustering\n",
    "- Treat data as graph instead of using normal distance metric\n",
    "- Use adjacency matrix to reduce dimensions\n",
    "- Use K-means on reduced data\n",
    "\n",
    "- Much more computationally expensive (memory also)"
   ]
  },
  {
   "cell_type": "markdown",
   "metadata": {},
   "source": [
    "# Spectral Clustering in scikit-learn\n"
   ]
  },
  {
   "cell_type": "code",
   "execution_count": 13,
   "metadata": {},
   "outputs": [],
   "source": [
    "# make cirlce data"
   ]
  },
  {
   "cell_type": "code",
   "execution_count": 14,
   "metadata": {},
   "outputs": [],
   "source": [
    "# make clustering model"
   ]
  },
  {
   "cell_type": "code",
   "execution_count": null,
   "metadata": {},
   "outputs": [],
   "source": [
    "# fit clustering model"
   ]
  },
  {
   "cell_type": "code",
   "execution_count": null,
   "metadata": {},
   "outputs": [],
   "source": [
    "# compare kmeans and spectral clustering\n",
    "\n",
    "\n",
    "# cluster with kmeans\n",
    "\n",
    "\n",
    "# plot the data, colouring it by cluster\n",
    "\n",
    "\n",
    "# cluster with spectral clustering\n"
   ]
  },
  {
   "cell_type": "markdown",
   "metadata": {},
   "source": [
    "## Exercises\n",
    "Modify the program we wrote in the previous exercise to use spectral clustering instead of k-means, save it as a new file. Time how long both programs take to run. Add the line import time at the top of both files, as the first line in the file get the start time with `start_time = time.time()`. End the program by getting the time again and subtracting the start time from it to get the total run time. Add `end_time = time.time()` and `print(\"Elapsed time:\",end_time-start_time,\"seconds\")` to the end of both files. Compare how long both programs take to run generating 4,000 samples and testing them for between 2 and 10 clusters. How much did your run times differ? How much do they differ if you increase the number of samples to 8,000? How long do you think it would take to compute 800,000 samples (estimate this, it might take a while to run for real)?"
   ]
  },
  {
   "cell_type": "code",
   "execution_count": null,
   "metadata": {},
   "outputs": [],
   "source": [
    "# k-means version"
   ]
  },
  {
   "cell_type": "code",
   "execution_count": null,
   "metadata": {},
   "outputs": [],
   "source": [
    "# spectral"
   ]
  }
 ],
 "metadata": {
  "kernelspec": {
   "display_name": "sklearn-carpentry",
   "language": "python",
   "name": "python3"
  },
  "language_info": {
   "codemirror_mode": {
    "name": "ipython",
    "version": 3
   },
   "file_extension": ".py",
   "mimetype": "text/x-python",
   "name": "python",
   "nbconvert_exporter": "python",
   "pygments_lexer": "ipython3",
   "version": "3.12.3"
  }
 },
 "nbformat": 4,
 "nbformat_minor": 2
}
