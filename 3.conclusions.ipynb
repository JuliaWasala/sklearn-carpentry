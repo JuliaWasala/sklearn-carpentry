{
 "cells": [
  {
   "cell_type": "markdown",
   "metadata": {},
   "source": [
    "# Conclusions\n",
    "- very short overview: wealth of ML algorithms\n",
    "    - SVM, Random Forest, Gradient Boosting...\n",
    "\n"
   ]
  },
  {
   "cell_type": "markdown",
   "metadata": {},
   "source": [
    "## black box?\n",
    "- is ML a black box?\n",
    "\n",
    "![black box](https://imgs.xkcd.com/comics/machine_learning_2x.png)\n",
    "\n",
    "- Don't blindly copy other people's ML setup, trust your own judgement!\n",
    "- Understanding model is important, e.g., for selecting data pre-processing\n",
    "    - Note on image data\n"
   ]
  },
  {
   "cell_type": "markdown",
   "metadata": {},
   "source": [
    "## Comparing algorithms\n",
    "- train/test split or cross-validation\n",
    "- fair baseline comparisons\n",
    "- run non-deterministic models multiple times & statistical testing"
   ]
  },
  {
   "cell_type": "markdown",
   "metadata": {},
   "source": [
    "## AutoML\n",
    "- research field about automatic design of ML models\n",
    "- `autosklearn` : wrapper around `scikit-learn` for automatic model selection\n",
    "\n",
    "```python\n",
    "import autosklearn.classification\n",
    "cls = autosklearn.classification.AutoSklearnClassifier()\n",
    "cls.fit(X_train, y_train)\n",
    "predictions = cls.predict(X_test)\n",
    "```"
   ]
  }
 ],
 "metadata": {
  "language_info": {
   "name": "python"
  }
 },
 "nbformat": 4,
 "nbformat_minor": 2
}
